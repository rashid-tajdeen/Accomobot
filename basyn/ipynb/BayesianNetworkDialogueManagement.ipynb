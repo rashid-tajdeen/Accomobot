{
 "cells": [
  {
   "cell_type": "code",
   "execution_count": null,
   "metadata": {
    "colab": {
     "base_uri": "https://localhost:8080/"
    },
    "id": "M4WTDFROFW__",
    "outputId": "9314c0c4-d90e-419c-afba-1cfe7ec5a0a8"
   },
   "outputs": [
    {
     "name": "stdout",
     "output_type": "stream",
     "text": [
      "Requirement already satisfied: pyagrum in c:\\users\\thassa2m\\anaconda3\\lib\\site-packages (1.7.1)\n",
      "Requirement already satisfied: matplotlib in c:\\users\\thassa2m\\anaconda3\\lib\\site-packages (from pyagrum) (3.7.0)\n",
      "Requirement already satisfied: pydot in c:\\users\\thassa2m\\anaconda3\\lib\\site-packages (from pyagrum) (1.4.2)\n",
      "Requirement already satisfied: numpy in c:\\users\\thassa2m\\anaconda3\\lib\\site-packages (from pyagrum) (1.23.5)\n",
      "Requirement already satisfied: packaging>=20.0 in c:\\users\\thassa2m\\anaconda3\\lib\\site-packages (from matplotlib->pyagrum) (22.0)\n",
      "Requirement already satisfied: python-dateutil>=2.7 in c:\\users\\thassa2m\\anaconda3\\lib\\site-packages (from matplotlib->pyagrum) (2.8.2)\n",
      "Requirement already satisfied: cycler>=0.10 in c:\\users\\thassa2m\\anaconda3\\lib\\site-packages (from matplotlib->pyagrum) (0.11.0)\n",
      "Requirement already satisfied: kiwisolver>=1.0.1 in c:\\users\\thassa2m\\anaconda3\\lib\\site-packages (from matplotlib->pyagrum) (1.4.4)\n",
      "Requirement already satisfied: pillow>=6.2.0 in c:\\users\\thassa2m\\anaconda3\\lib\\site-packages (from matplotlib->pyagrum) (9.4.0)\n",
      "Requirement already satisfied: fonttools>=4.22.0 in c:\\users\\thassa2m\\anaconda3\\lib\\site-packages (from matplotlib->pyagrum) (4.25.0)\n",
      "Requirement already satisfied: contourpy>=1.0.1 in c:\\users\\thassa2m\\anaconda3\\lib\\site-packages (from matplotlib->pyagrum) (1.0.5)\n",
      "Requirement already satisfied: pyparsing>=2.3.1 in c:\\users\\thassa2m\\anaconda3\\lib\\site-packages (from matplotlib->pyagrum) (3.0.9)\n",
      "Requirement already satisfied: six>=1.5 in c:\\users\\thassa2m\\anaconda3\\lib\\site-packages (from python-dateutil>=2.7->matplotlib->pyagrum) (1.16.0)\n"
     ]
    }
   ],
   "source": [
    "!pip install pyagrum\n"
   ]
  },
  {
   "cell_type": "markdown",
   "metadata": {
    "id": "FSJwPdLOvqQl"
   },
   "source": [
    "## Bayesian network for dialogue management:\n",
    "\n",
    "The variables in the network are:\n",
    "\n",
    "* **User intent**: It can take on values \"information request,\" \"task completion,\" or \"opinion expression.\"\n",
    "\n",
    "* **User preference**: It can take on values \"direct answer,\" \n",
    "\"clarification question,\" or \"confirmation request.\"\n",
    "\n",
    "* **Dialogue context**:  It can take on values \"topic new,\" \"previous topic,\" \n",
    "\n",
    "* **Robot understanding**: It can take on values \"question,\" \"statement,\" or \"request.\"\n",
    "\n",
    "* **Robot response**: This variable represents the possible responses that the robot can make to the user's utterance, \n",
    "such as providing information, asking for clarification, or requesting confirmation. It can take on values \n",
    "\"provide information,\" \"ask for clarification,\" or \"request confirmation.\"\n"
   ]
  },
  {
   "cell_type": "code",
   "execution_count": 2,
   "metadata": {
    "colab": {
     "base_uri": "https://localhost:8080/",
     "height": 272
    },
    "id": "JxycxlGDFYru",
    "outputId": "8aa0db08-1403-46b7-e3a0-9cc7d871623d"
   },
   "outputs": [
    {
     "data": {
      "image/svg+xml": [
       "<svg xmlns=\"http://www.w3.org/2000/svg\" xmlns:xlink=\"http://www.w3.org/1999/xlink\" width=\"504pt\" height=\"188pt\" viewBox=\"0.00 0.00 504.04 188.00\">\n",
       "<g id=\"graph0\" class=\"graph\" transform=\"scale(1 1) rotate(0) translate(4 184)\">\n",
       "<title>G</title>\n",
       "<!-- user_goal -->\n",
       "<g id=\"node1\" class=\"node\">\n",
       "<title>user_goal</title>\n",
       "<g id=\"a_node1\"><a xlink:title=\"(0) user_goal\">\n",
       "<ellipse fill=\"#404040\" stroke=\"black\" cx=\"55.25\" cy=\"-162\" rx=\"55.49\" ry=\"18\"/>\n",
       "<text text-anchor=\"middle\" x=\"55.25\" y=\"-158.3\" font-family=\"Times,serif\" font-size=\"14.00\" fill=\"white\">user_goal</text>\n",
       "</a>\n",
       "</g>\n",
       "</g>\n",
       "<!-- robot_understanding -->\n",
       "<g id=\"node3\" class=\"node\">\n",
       "<title>robot_understanding</title>\n",
       "<g id=\"a_node3\"><a xlink:title=\"(3) robot_understanding\">\n",
       "<ellipse fill=\"#404040\" stroke=\"black\" cx=\"217.25\" cy=\"-90\" rx=\"107.78\" ry=\"18\"/>\n",
       "<text text-anchor=\"middle\" x=\"217.25\" y=\"-86.3\" font-family=\"Times,serif\" font-size=\"14.00\" fill=\"white\">robot_understanding</text>\n",
       "</a>\n",
       "</g>\n",
       "</g>\n",
       "<!-- user_goal&#45;&gt;robot_understanding -->\n",
       "<g id=\"edge2\" class=\"edge\">\n",
       "<title>user_goal-&gt;robot_understanding</title>\n",
       "<g id=\"a_edge2\"><a xlink:title=\"0 → 3\">\n",
       "<path fill=\"none\" stroke=\"#4a4a4a\" d=\"M87.25,-147.17C111.17,-136.83 144.22,-122.55 171.01,-110.98\"/>\n",
       "<polygon fill=\"#4a4a4a\" stroke=\"#4a4a4a\" points=\"172.41,-114.19 180.2,-107.01 169.63,-107.76 172.41,-114.19\"/>\n",
       "</a>\n",
       "</g>\n",
       "</g>\n",
       "<!-- dialogue_context -->\n",
       "<g id=\"node2\" class=\"node\">\n",
       "<title>dialogue_context</title>\n",
       "<g id=\"a_node2\"><a xlink:title=\"(2) dialogue_context\">\n",
       "<ellipse fill=\"#404040\" stroke=\"black\" cx=\"217.25\" cy=\"-162\" rx=\"89.08\" ry=\"18\"/>\n",
       "<text text-anchor=\"middle\" x=\"217.25\" y=\"-158.3\" font-family=\"Times,serif\" font-size=\"14.00\" fill=\"white\">dialogue_context</text>\n",
       "</a>\n",
       "</g>\n",
       "</g>\n",
       "<!-- dialogue_context&#45;&gt;robot_understanding -->\n",
       "<g id=\"edge1\" class=\"edge\">\n",
       "<title>dialogue_context-&gt;robot_understanding</title>\n",
       "<g id=\"a_edge1\"><a xlink:title=\"2 → 3\">\n",
       "<path fill=\"none\" stroke=\"#4a4a4a\" d=\"M217.25,-143.7C217.25,-135.98 217.25,-126.71 217.25,-118.11\"/>\n",
       "<polygon fill=\"#4a4a4a\" stroke=\"#4a4a4a\" points=\"220.75,-118.1 217.25,-108.1 213.75,-118.1 220.75,-118.1\"/>\n",
       "</a>\n",
       "</g>\n",
       "</g>\n",
       "<!-- robot_response -->\n",
       "<g id=\"node5\" class=\"node\">\n",
       "<title>robot_response</title>\n",
       "<g id=\"a_node5\"><a xlink:title=\"(4) robot_response\">\n",
       "<ellipse fill=\"#404040\" stroke=\"black\" cx=\"217.25\" cy=\"-18\" rx=\"81.79\" ry=\"18\"/>\n",
       "<text text-anchor=\"middle\" x=\"217.25\" y=\"-14.3\" font-family=\"Times,serif\" font-size=\"14.00\" fill=\"white\">robot_response</text>\n",
       "</a>\n",
       "</g>\n",
       "</g>\n",
       "<!-- robot_understanding&#45;&gt;robot_response -->\n",
       "<g id=\"edge4\" class=\"edge\">\n",
       "<title>robot_understanding-&gt;robot_response</title>\n",
       "<g id=\"a_edge4\"><a xlink:title=\"3 → 4\">\n",
       "<path fill=\"none\" stroke=\"#4a4a4a\" d=\"M217.25,-71.7C217.25,-63.98 217.25,-54.71 217.25,-46.11\"/>\n",
       "<polygon fill=\"#4a4a4a\" stroke=\"#4a4a4a\" points=\"220.75,-46.1 217.25,-36.1 213.75,-46.1 220.75,-46.1\"/>\n",
       "</a>\n",
       "</g>\n",
       "</g>\n",
       "<!-- user_preference -->\n",
       "<g id=\"node4\" class=\"node\">\n",
       "<title>user_preference</title>\n",
       "<g id=\"a_node4\"><a xlink:title=\"(1) user_preference\">\n",
       "<ellipse fill=\"#404040\" stroke=\"black\" cx=\"410.25\" cy=\"-162\" rx=\"85.59\" ry=\"18\"/>\n",
       "<text text-anchor=\"middle\" x=\"410.25\" y=\"-158.3\" font-family=\"Times,serif\" font-size=\"14.00\" fill=\"white\">user_preference</text>\n",
       "</a>\n",
       "</g>\n",
       "</g>\n",
       "<!-- user_preference&#45;&gt;robot_understanding -->\n",
       "<g id=\"edge3\" class=\"edge\">\n",
       "<title>user_preference-&gt;robot_understanding</title>\n",
       "<g id=\"a_edge3\"><a xlink:title=\"1 → 3\">\n",
       "<path fill=\"none\" stroke=\"#4a4a4a\" d=\"M369.31,-146.15C340.23,-135.61 300.94,-121.36 269.58,-109.98\"/>\n",
       "<polygon fill=\"#4a4a4a\" stroke=\"#4a4a4a\" points=\"270.72,-106.67 260.12,-106.55 268.33,-113.25 270.72,-106.67\"/>\n",
       "</a>\n",
       "</g>\n",
       "</g>\n",
       "</g>\n",
       "</svg>"
      ],
      "text/plain": [
       "<IPython.core.display.SVG object>"
      ]
     },
     "metadata": {},
     "output_type": "display_data"
    }
   ],
   "source": [
    "import pyAgrum as gum\n",
    "import pyAgrum.lib.notebook as gnb\n",
    "\n",
    "\n",
    "# Create a Bayesian network object\n",
    "bn = gum.BayesNet('Dialogue Management')\n",
    "\n",
    "# Add the nodes to the network\n",
    "user_goal = bn.add(gum.LabelizedVariable('user_goal', 'User Goal', ['info', 'opinion', 'task']))\n",
    "user_preference = bn.add(gum.LabelizedVariable('user_preference', 'User Preference', ['direct answer', 'clarification', 'confirmation']))\n",
    "dialogue_context = bn.add(gum.LabelizedVariable('dialogue_context', 'Dialogue Context', ['new topic', 'previous topic']))\n",
    "robot_understanding = bn.add(gum.LabelizedVariable('robot_understanding', 'Robot Understanding', ['question', 'statement', 'request']))\n",
    "robot_response = bn.add(gum.LabelizedVariable('robot_response', 'Robot Response', ['provide information', 'ask clarification', 'request confirmation']))\n",
    "\n",
    "# Define the conditional probability distributions for each node\n",
    "bn.cpt(user_goal).fillWith([0.3, 0.4, 0.3])\n",
    "bn.cpt(user_preference).fillWith([0.4, 0.3, 0.3])\n",
    "bn.cpt(dialogue_context).fillWith([0.4, 0.6])\n",
    "bn.cpt(robot_understanding)[{'user_preference': 'direct answer'}] = [0.4, 0.3, 0.3]\n",
    "bn.cpt(robot_understanding)[{'user_preference': 'clarification'}] = [0.2, 0.5, 0.3]\n",
    "bn.cpt(robot_understanding)[{'user_preference': 'confirmation'}] = [0.2, 0.3, 0.5]\n",
    "bn.cpt(robot_response)[{'robot_understanding': 'question'}] = [0.5, 0.2, 0.3]\n",
    "bn.cpt(robot_response)[{'robot_understanding': 'statement'}] = [0.3, 0.5, 0.2]\n",
    "bn.cpt(robot_response)[{'robot_understanding': 'request'}] = [0.2, 0.3, 0.5]\n",
    "bn.cpt(robot_understanding)[{'user_goal': 'info'}] = [0.4, 0.3, 0.3]\n",
    "bn.cpt(robot_understanding)[{'user_goal': 'opinion'}] = [0.2, 0.5, 0.3]\n",
    "bn.cpt(robot_understanding)[{'user_goal': 'task'}] = [0.2, 0.3, 0.5]\n",
    "bn.cpt(robot_understanding)[{'dialogue_context': 'new topic'}] = [0.4, 0.3, 0.3]\n",
    "bn.cpt(robot_understanding)[{'dialogue_context': 'previous topic'}] = [0.2, 0.5, 0.3]\n",
    "bn.addArc(user_preference,robot_understanding)\n",
    "bn.addArc(dialogue_context,robot_understanding)\n",
    "bn.addArc(user_goal,robot_understanding)\n",
    "bn.addArc(robot_understanding,robot_response)\n",
    "\n",
    "\n",
    "gnb.showBN(bn,size='30')\n"
   ]
  },
  {
   "cell_type": "code",
   "execution_count": 4,
   "metadata": {
    "colab": {
     "base_uri": "https://localhost:8080/"
    },
    "id": "ylTomNkbu1Sn",
    "outputId": "b4f71f0e-5350-444f-f5c4-83c92bf5a320"
   },
   "outputs": [
    {
     "name": "stdout",
     "output_type": "stream",
     "text": [
      "[{'robot_understanding': 1}, {'robot_understanding': 2}]\n",
      "Robot response: 2\n"
     ]
    }
   ],
   "source": [
    "\n",
    "# Observe the values of the user_goal and dialogue_context nodes\n",
    "# bn.setEvidence({'user_goal': 0, 'dialogue_context': 0})\n",
    "\n",
    "# Infer the posterior probabilities of the robot_understanding and robot_response nodes\n",
    "ie = gum.LazyPropagation(bn)\n",
    "\n",
    "# Observe the values of the user_goal and dialogue_context nodes\n",
    "ie.setEvidence({'user_goal': 'info', 'dialogue_context': 'new topic'})\n",
    "\n",
    "ie.makeInference()\n",
    "\n",
    "robot_understanding_posterior = ie.posterior(robot_understanding)\n",
    "robot_response_posterior = ie.posterior(robot_response)\n",
    "print(list(robot_understanding_posterior.findAll(user_goal)))\n",
    "# print(robot_understanding_posterior.toarray())\n",
    "# Select the response with the highest probability as the robot's utterance\n",
    "robot_response = robot_response_posterior.toarray().argmax()\n",
    "\n",
    "print('Robot response: {}'.format(robot_response))"
   ]
  },
  {
   "cell_type": "markdown",
   "metadata": {
    "id": "3UnOlp5Twf7U"
   },
   "source": [
    "--- \n",
    "End of exercise"
   ]
  },
  {
   "cell_type": "markdown",
   "metadata": {
    "id": "nnxtpjtbwcEo"
   },
   "source": [
    "---\n",
    "\n",
    "## Test code"
   ]
  },
  {
   "cell_type": "code",
   "execution_count": 5,
   "metadata": {
    "id": "vsIFPP7IFceu"
   },
   "outputs": [],
   "source": [
    "import pyAgrum.lib.notebook as gnb\n",
    "\n",
    "# the next lines control the visualisation of proba as fraction\n",
    "gum.config['notebook','potential_with_fraction']=True\n",
    "gum.config['notebook', 'potential_fraction_with_latex']=True\n",
    "gum.config['notebook', 'potential_fraction_limit']=100\n"
   ]
  },
  {
   "cell_type": "code",
   "execution_count": 6,
   "metadata": {
    "colab": {
     "base_uri": "https://localhost:8080/"
    },
    "id": "IMKtayW9HSvN",
    "outputId": "15cab57d-92d1-4180-c7b5-aac88696ddbb"
   },
   "outputs": [
    {
     "name": "stdout",
     "output_type": "stream",
     "text": [
      "\n",
      "                    ||  robot_understanding        |\n",
      "user_p|dialog|user_g||question |statement|request  |\n",
      "------|------|------||---------|---------|---------|\n",
      "direct|new to|info  || 0.2000  | 0.5000  | 0.3000  |\n",
      "clarif|new to|info  || 0.0000  | 0.0000  | 0.0000  |\n",
      "confir|new to|info  || 0.0000  | 0.0000  | 0.0000  |\n",
      "direct|previo|info  || 0.0000  | 0.0000  | 0.0000  |\n",
      "clarif|previo|info  || 0.0000  | 0.0000  | 0.0000  |\n",
      "confir|previo|info  || 0.0000  | 0.0000  | 0.0000  |\n",
      "[...6 more line(s) ...]\n",
      "direct|new to|task  || 0.0000  | 0.0000  | 0.0000  |\n",
      "clarif|new to|task  || 0.0000  | 0.0000  | 0.0000  |\n",
      "confir|new to|task  || 0.0000  | 0.0000  | 0.0000  |\n",
      "direct|previo|task  || 0.0000  | 0.0000  | 0.0000  |\n",
      "clarif|previo|task  || 0.0000  | 0.0000  | 0.0000  |\n",
      "confir|previo|task  || 0.0000  | 0.0000  | 0.0000  |\n",
      "\n"
     ]
    }
   ],
   "source": [
    "print(bn.cpt(\"robot_understanding\"))\n"
   ]
  },
  {
   "cell_type": "code",
   "execution_count": 8,
   "metadata": {
    "colab": {
     "base_uri": "https://localhost:8080/",
     "height": 80
    },
    "id": "Pmh5K_GRHV_T",
    "outputId": "94625798-bce4-48b9-de1a-beaeb38821b1"
   },
   "outputs": [
    {
     "data": {
      "image/svg+xml": [
       "<svg xmlns=\"http://www.w3.org/2000/svg\" xmlns:xlink=\"http://www.w3.org/1999/xlink\" width=\"504pt\" height=\"188pt\" viewBox=\"0.00 0.00 504.04 188.00\">\n",
       "<g id=\"graph0\" class=\"graph\" transform=\"scale(1 1) rotate(0) translate(4 184)\">\n",
       "<title>G</title>\n",
       "<!-- user_goal -->\n",
       "<g id=\"node1\" class=\"node\">\n",
       "<title>user_goal</title>\n",
       "<g id=\"a_node1\"><a xlink:title=\"(0) user_goal\">\n",
       "<ellipse fill=\"#404040\" stroke=\"black\" cx=\"55.25\" cy=\"-162\" rx=\"55.49\" ry=\"18\"/>\n",
       "<text text-anchor=\"middle\" x=\"55.25\" y=\"-158.3\" font-family=\"Times,serif\" font-size=\"14.00\" fill=\"white\">user_goal</text>\n",
       "</a>\n",
       "</g>\n",
       "</g>\n",
       "<!-- robot_understanding -->\n",
       "<g id=\"node3\" class=\"node\">\n",
       "<title>robot_understanding</title>\n",
       "<g id=\"a_node3\"><a xlink:title=\"(3) robot_understanding\">\n",
       "<ellipse fill=\"#404040\" stroke=\"black\" cx=\"217.25\" cy=\"-90\" rx=\"107.78\" ry=\"18\"/>\n",
       "<text text-anchor=\"middle\" x=\"217.25\" y=\"-86.3\" font-family=\"Times,serif\" font-size=\"14.00\" fill=\"white\">robot_understanding</text>\n",
       "</a>\n",
       "</g>\n",
       "</g>\n",
       "<!-- user_goal&#45;&gt;robot_understanding -->\n",
       "<g id=\"edge2\" class=\"edge\">\n",
       "<title>user_goal-&gt;robot_understanding</title>\n",
       "<g id=\"a_edge2\"><a xlink:title=\"0 → 3\">\n",
       "<path fill=\"none\" stroke=\"#4a4a4a\" d=\"M87.25,-147.17C111.17,-136.83 144.22,-122.55 171.01,-110.98\"/>\n",
       "<polygon fill=\"#4a4a4a\" stroke=\"#4a4a4a\" points=\"172.41,-114.19 180.2,-107.01 169.63,-107.76 172.41,-114.19\"/>\n",
       "</a>\n",
       "</g>\n",
       "</g>\n",
       "<!-- dialogue_context -->\n",
       "<g id=\"node2\" class=\"node\">\n",
       "<title>dialogue_context</title>\n",
       "<g id=\"a_node2\"><a xlink:title=\"(2) dialogue_context\">\n",
       "<ellipse fill=\"#404040\" stroke=\"black\" cx=\"217.25\" cy=\"-162\" rx=\"89.08\" ry=\"18\"/>\n",
       "<text text-anchor=\"middle\" x=\"217.25\" y=\"-158.3\" font-family=\"Times,serif\" font-size=\"14.00\" fill=\"white\">dialogue_context</text>\n",
       "</a>\n",
       "</g>\n",
       "</g>\n",
       "<!-- dialogue_context&#45;&gt;robot_understanding -->\n",
       "<g id=\"edge1\" class=\"edge\">\n",
       "<title>dialogue_context-&gt;robot_understanding</title>\n",
       "<g id=\"a_edge1\"><a xlink:title=\"2 → 3\">\n",
       "<path fill=\"none\" stroke=\"#4a4a4a\" d=\"M217.25,-143.7C217.25,-135.98 217.25,-126.71 217.25,-118.11\"/>\n",
       "<polygon fill=\"#4a4a4a\" stroke=\"#4a4a4a\" points=\"220.75,-118.1 217.25,-108.1 213.75,-118.1 220.75,-118.1\"/>\n",
       "</a>\n",
       "</g>\n",
       "</g>\n",
       "<!-- robot_response -->\n",
       "<g id=\"node5\" class=\"node\">\n",
       "<title>robot_response</title>\n",
       "<g id=\"a_node5\"><a xlink:title=\"(4) robot_response\">\n",
       "<ellipse fill=\"#404040\" stroke=\"black\" cx=\"217.25\" cy=\"-18\" rx=\"81.79\" ry=\"18\"/>\n",
       "<text text-anchor=\"middle\" x=\"217.25\" y=\"-14.3\" font-family=\"Times,serif\" font-size=\"14.00\" fill=\"white\">robot_response</text>\n",
       "</a>\n",
       "</g>\n",
       "</g>\n",
       "<!-- robot_understanding&#45;&gt;robot_response -->\n",
       "<g id=\"edge4\" class=\"edge\">\n",
       "<title>robot_understanding-&gt;robot_response</title>\n",
       "<g id=\"a_edge4\"><a xlink:title=\"3 → 4\">\n",
       "<path fill=\"none\" stroke=\"#4a4a4a\" d=\"M217.25,-71.7C217.25,-63.98 217.25,-54.71 217.25,-46.11\"/>\n",
       "<polygon fill=\"#4a4a4a\" stroke=\"#4a4a4a\" points=\"220.75,-46.1 217.25,-36.1 213.75,-46.1 220.75,-46.1\"/>\n",
       "</a>\n",
       "</g>\n",
       "</g>\n",
       "<!-- user_preference -->\n",
       "<g id=\"node4\" class=\"node\">\n",
       "<title>user_preference</title>\n",
       "<g id=\"a_node4\"><a xlink:title=\"(1) user_preference\">\n",
       "<ellipse fill=\"#404040\" stroke=\"black\" cx=\"410.25\" cy=\"-162\" rx=\"85.59\" ry=\"18\"/>\n",
       "<text text-anchor=\"middle\" x=\"410.25\" y=\"-158.3\" font-family=\"Times,serif\" font-size=\"14.00\" fill=\"white\">user_preference</text>\n",
       "</a>\n",
       "</g>\n",
       "</g>\n",
       "<!-- user_preference&#45;&gt;robot_understanding -->\n",
       "<g id=\"edge3\" class=\"edge\">\n",
       "<title>user_preference-&gt;robot_understanding</title>\n",
       "<g id=\"a_edge3\"><a xlink:title=\"1 → 3\">\n",
       "<path fill=\"none\" stroke=\"#4a4a4a\" d=\"M369.31,-146.15C340.23,-135.61 300.94,-121.36 269.58,-109.98\"/>\n",
       "<polygon fill=\"#4a4a4a\" stroke=\"#4a4a4a\" points=\"270.72,-106.67 260.12,-106.55 268.33,-113.25 270.72,-106.67\"/>\n",
       "</a>\n",
       "</g>\n",
       "</g>\n",
       "</g>\n",
       "</svg>"
      ],
      "text/plain": [
       "<IPython.core.display.SVG object>"
      ]
     },
     "metadata": {},
     "output_type": "display_data"
    }
   ],
   "source": [
    "gnb.showBN(bn,size='30')\n"
   ]
  },
  {
   "cell_type": "code",
   "execution_count": 9,
   "metadata": {
    "colab": {
     "base_uri": "https://localhost:8080/"
    },
    "id": "csgCFKWFKwLq",
    "outputId": "dbde9bcc-8826-4221-bf0d-8781c2e710ea"
   },
   "outputs": [
    {
     "name": "stdout",
     "output_type": "stream",
     "text": [
      "\n",
      "                    ||  robot_understanding        |\n",
      "user_p|dialog|user_g||question |statement|request  |\n",
      "------|------|------||---------|---------|---------|\n",
      "direct|new to|info  || 0.2000  | 0.5000  | 0.3000  |\n",
      "clarif|new to|info  || 0.0000  | 0.0000  | 0.0000  |\n",
      "confir|new to|info  || 0.0000  | 0.0000  | 0.0000  |\n",
      "direct|previo|info  || 0.0000  | 0.0000  | 0.0000  |\n",
      "clarif|previo|info  || 0.0000  | 0.0000  | 0.0000  |\n",
      "confir|previo|info  || 0.0000  | 0.0000  | 0.0000  |\n",
      "[...6 more line(s) ...]\n",
      "direct|new to|task  || 0.0000  | 0.0000  | 0.0000  |\n",
      "clarif|new to|task  || 0.0000  | 0.0000  | 0.0000  |\n",
      "confir|new to|task  || 0.0000  | 0.0000  | 0.0000  |\n",
      "direct|previo|task  || 0.0000  | 0.0000  | 0.0000  |\n",
      "clarif|previo|task  || 0.0000  | 0.0000  | 0.0000  |\n",
      "confir|previo|task  || 0.0000  | 0.0000  | 0.0000  |\n",
      "\n"
     ]
    }
   ],
   "source": [
    "print(bn.cpt(\"robot_understanding\"))\n"
   ]
  },
  {
   "cell_type": "code",
   "execution_count": null,
   "metadata": {},
   "outputs": [],
   "source": []
  },
  {
   "cell_type": "code",
   "execution_count": 10,
   "metadata": {
    "colab": {
     "base_uri": "https://localhost:8080/",
     "height": 272
    },
    "id": "-agl88jhK0GG",
    "outputId": "92b555ed-1de8-45ce-c54b-38f337c3a366"
   },
   "outputs": [
    {
     "data": {
      "text/html": [
       "<svg xmlns=\"http://www.w3.org/2000/svg\" xmlns:xlink=\"http://www.w3.org/1999/xlink\" width=\"134pt\" height=\"188pt\" viewBox=\"0.00 0.00 134.00 188.00\">\n",
       "<g id=\"graph0\" class=\"graph\" transform=\"scale(1 1) rotate(0) translate(4 184)\">\n",
       "<title>G</title>\n",
       "<!-- w -->\n",
       "<g id=\"node1\" class=\"node\">\n",
       "<title>w</title>\n",
       "<g id=\"a_node1\"><a xlink:title=\"(2) w\">\n",
       "<ellipse fill=\"#404040\" stroke=\"black\" cx=\"63\" cy=\"-18\" rx=\"27\" ry=\"18\"/>\n",
       "<text text-anchor=\"middle\" x=\"63\" y=\"-14.3\" font-family=\"Times,serif\" font-size=\"14.00\" fill=\"white\">w</text>\n",
       "</a>\n",
       "</g>\n",
       "</g>\n",
       "<!-- r -->\n",
       "<g id=\"node2\" class=\"node\">\n",
       "<title>r</title>\n",
       "<g id=\"a_node2\"><a xlink:title=\"(1) r\">\n",
       "<ellipse fill=\"#404040\" stroke=\"black\" cx=\"27\" cy=\"-90\" rx=\"27\" ry=\"18\"/>\n",
       "<text text-anchor=\"middle\" x=\"27\" y=\"-86.3\" font-family=\"Times,serif\" font-size=\"14.00\" fill=\"white\">r</text>\n",
       "</a>\n",
       "</g>\n",
       "</g>\n",
       "<!-- r&#45;&gt;w -->\n",
       "<g id=\"edge2\" class=\"edge\">\n",
       "<title>r-&gt;w</title>\n",
       "<g id=\"a_edge2\"><a xlink:title=\"1 → 2\">\n",
       "<path fill=\"none\" stroke=\"#4a4a4a\" d=\"M35.35,-72.76C39.71,-64.28 45.15,-53.71 50.04,-44.2\"/>\n",
       "<polygon fill=\"#4a4a4a\" stroke=\"#4a4a4a\" points=\"53.23,-45.64 54.7,-35.15 47.01,-42.44 53.23,-45.64\"/>\n",
       "</a>\n",
       "</g>\n",
       "</g>\n",
       "<!-- s -->\n",
       "<g id=\"node3\" class=\"node\">\n",
       "<title>s</title>\n",
       "<g id=\"a_node3\"><a xlink:title=\"(3) s\">\n",
       "<ellipse fill=\"#404040\" stroke=\"black\" cx=\"99\" cy=\"-90\" rx=\"27\" ry=\"18\"/>\n",
       "<text text-anchor=\"middle\" x=\"99\" y=\"-86.3\" font-family=\"Times,serif\" font-size=\"14.00\" fill=\"white\">s</text>\n",
       "</a>\n",
       "</g>\n",
       "</g>\n",
       "<!-- s&#45;&gt;w -->\n",
       "<g id=\"edge4\" class=\"edge\">\n",
       "<title>s-&gt;w</title>\n",
       "<g id=\"a_edge4\"><a xlink:title=\"3 → 2\">\n",
       "<path fill=\"none\" stroke=\"#4a4a4a\" d=\"M90.65,-72.76C86.29,-64.28 80.85,-53.71 75.96,-44.2\"/>\n",
       "<polygon fill=\"#4a4a4a\" stroke=\"#4a4a4a\" points=\"78.99,-42.44 71.3,-35.15 72.77,-45.64 78.99,-42.44\"/>\n",
       "</a>\n",
       "</g>\n",
       "</g>\n",
       "<!-- c -->\n",
       "<g id=\"node4\" class=\"node\">\n",
       "<title>c</title>\n",
       "<g id=\"a_node4\"><a xlink:title=\"(0) c\">\n",
       "<ellipse fill=\"#404040\" stroke=\"black\" cx=\"63\" cy=\"-162\" rx=\"27\" ry=\"18\"/>\n",
       "<text text-anchor=\"middle\" x=\"63\" y=\"-158.3\" font-family=\"Times,serif\" font-size=\"14.00\" fill=\"white\">c</text>\n",
       "</a>\n",
       "</g>\n",
       "</g>\n",
       "<!-- c&#45;&gt;r -->\n",
       "<g id=\"edge1\" class=\"edge\">\n",
       "<title>c-&gt;r</title>\n",
       "<g id=\"a_edge1\"><a xlink:title=\"0 → 1\">\n",
       "<path fill=\"none\" stroke=\"#4a4a4a\" d=\"M54.65,-144.76C50.29,-136.28 44.85,-125.71 39.96,-116.2\"/>\n",
       "<polygon fill=\"#4a4a4a\" stroke=\"#4a4a4a\" points=\"42.99,-114.44 35.3,-107.15 36.77,-117.64 42.99,-114.44\"/>\n",
       "</a>\n",
       "</g>\n",
       "</g>\n",
       "<!-- c&#45;&gt;s -->\n",
       "<g id=\"edge3\" class=\"edge\">\n",
       "<title>c-&gt;s</title>\n",
       "<g id=\"a_edge3\"><a xlink:title=\"0 → 3\">\n",
       "<path fill=\"none\" stroke=\"#4a4a4a\" d=\"M71.35,-144.76C75.71,-136.28 81.15,-125.71 86.04,-116.2\"/>\n",
       "<polygon fill=\"#4a4a4a\" stroke=\"#4a4a4a\" points=\"89.23,-117.64 90.7,-107.15 83.01,-114.44 89.23,-117.64\"/>\n",
       "</a>\n",
       "</g>\n",
       "</g>\n",
       "</g>\n",
       "</svg>"
      ],
      "text/plain": [
       "(pyAgrum.BayesNet<double>@0x38f77c0) BN{nodes: 4, arcs: 4, domainSize: 16, dim: 9, mem: 144o}"
      ]
     },
     "execution_count": 10,
     "metadata": {},
     "output_type": "execute_result"
    }
   ],
   "source": [
    "bn=gum.fastBN(\"c->r->w<-s<-c\")\n",
    "bn"
   ]
  },
  {
   "cell_type": "code",
   "execution_count": null,
   "metadata": {
    "id": "AV6ZN8AoK78n"
   },
   "outputs": [],
   "source": []
  },
  {
   "cell_type": "code",
   "execution_count": 12,
   "metadata": {},
   "outputs": [
    {
     "name": "stdout",
     "output_type": "stream",
     "text": [
      "Collecting pymc3\n",
      "  Using cached pymc3-3.11.5-py3-none-any.whl (872 kB)\n",
      "Collecting arviz>=0.11.0\n",
      "  Using cached arviz-0.15.1-py3-none-any.whl (1.6 MB)\n",
      "Collecting cachetools>=4.2.1\n",
      "  Using cached cachetools-5.3.2-py3-none-any.whl (9.3 kB)\n",
      "Collecting deprecat\n",
      "  Using cached deprecat-2.1.1-py2.py3-none-any.whl (9.8 kB)\n",
      "Collecting dill\n",
      "  Using cached dill-0.3.7-py3-none-any.whl (115 kB)\n",
      "Collecting fastprogress>=0.2.0\n",
      "  Using cached fastprogress-1.0.3-py3-none-any.whl (12 kB)\n",
      "Requirement already satisfied: numpy<1.22.2,>=1.15.0 in /home/akhilan/.local/lib/python3.8/site-packages (from pymc3) (1.22.1)\n",
      "Requirement already satisfied: pandas>=0.24.0 in /home/akhilan/.local/lib/python3.8/site-packages (from pymc3) (2.0.3)\n",
      "Requirement already satisfied: patsy>=0.5.1 in /home/akhilan/.local/lib/python3.8/site-packages (from pymc3) (0.5.5)\n",
      "Collecting scipy<1.8.0,>=1.7.3\n",
      "  Using cached scipy-1.7.3-cp38-cp38-manylinux_2_17_x86_64.manylinux2014_x86_64.whl (39.3 MB)\n",
      "Collecting semver>=2.13.0\n",
      "  Using cached semver-3.0.2-py3-none-any.whl (17 kB)\n",
      "Processing /home/akhilan/.cache/pip/wheels/0e/41/d2/82c7b771236f987def7fe2e51855cce22b270327f3fedec57c/Theano_PyMC-1.1.2-py3-none-any.whl\n",
      "Requirement already satisfied: typing-extensions>=3.7.4 in /home/akhilan/.local/lib/python3.8/site-packages (from pymc3) (4.7.1)\n",
      "Requirement already satisfied: setuptools>=60.0.0 in /home/akhilan/.local/lib/python3.8/site-packages (from arviz>=0.11.0->pymc3) (65.6.3)\n",
      "Requirement already satisfied: matplotlib>=3.2 in /home/akhilan/.local/lib/python3.8/site-packages (from arviz>=0.11.0->pymc3) (3.7.4)\n",
      "Requirement already satisfied: packaging in /home/akhilan/.local/lib/python3.8/site-packages (from arviz>=0.11.0->pymc3) (23.1)\n",
      "Collecting xarray>=0.21.0\n",
      "  Using cached xarray-2023.1.0-py3-none-any.whl (973 kB)\n",
      "Collecting h5netcdf>=1.0.2\n",
      "  Using cached h5netcdf-1.1.0-py2.py3-none-any.whl (26 kB)\n",
      "Collecting xarray-einstats>=0.3\n",
      "  Using cached xarray_einstats-0.5.1-py3-none-any.whl (28 kB)\n",
      "Requirement already satisfied: wrapt<2,>=1.10 in /usr/lib/python3/dist-packages (from deprecat->pymc3) (1.11.2)\n",
      "Requirement already satisfied: python-dateutil>=2.8.2 in /home/akhilan/.local/lib/python3.8/site-packages (from pandas>=0.24.0->pymc3) (2.8.2)\n",
      "Requirement already satisfied: pytz>=2020.1 in /home/akhilan/.local/lib/python3.8/site-packages (from pandas>=0.24.0->pymc3) (2023.3.post1)\n",
      "Requirement already satisfied: tzdata>=2022.1 in /home/akhilan/.local/lib/python3.8/site-packages (from pandas>=0.24.0->pymc3) (2023.3)\n",
      "Requirement already satisfied: six in /usr/lib/python3/dist-packages (from patsy>=0.5.1->pymc3) (1.14.0)\n",
      "Requirement already satisfied: filelock in /home/akhilan/.local/lib/python3.8/site-packages (from theano-pymc==1.1.2->pymc3) (3.12.4)\n",
      "Requirement already satisfied: contourpy>=1.0.1 in /home/akhilan/.local/lib/python3.8/site-packages (from matplotlib>=3.2->arviz>=0.11.0->pymc3) (1.1.1)\n",
      "Requirement already satisfied: cycler>=0.10 in /usr/lib/python3/dist-packages (from matplotlib>=3.2->arviz>=0.11.0->pymc3) (0.10.0)\n",
      "Requirement already satisfied: fonttools>=4.22.0 in /home/akhilan/.local/lib/python3.8/site-packages (from matplotlib>=3.2->arviz>=0.11.0->pymc3) (4.47.2)\n",
      "Requirement already satisfied: kiwisolver>=1.0.1 in /usr/lib/python3/dist-packages (from matplotlib>=3.2->arviz>=0.11.0->pymc3) (1.0.1)\n",
      "Requirement already satisfied: pillow>=6.2.0 in /usr/lib/python3/dist-packages (from matplotlib>=3.2->arviz>=0.11.0->pymc3) (7.0.0)\n",
      "Requirement already satisfied: pyparsing>=2.3.1 in /usr/lib/python3/dist-packages (from matplotlib>=3.2->arviz>=0.11.0->pymc3) (2.4.6)\n",
      "Requirement already satisfied: importlib-resources>=3.2.0; python_version < \"3.10\" in /home/akhilan/.local/lib/python3.8/site-packages (from matplotlib>=3.2->arviz>=0.11.0->pymc3) (6.1.0)\n",
      "Collecting h5py\n",
      "  Using cached h5py-3.10.0-cp38-cp38-manylinux_2_17_x86_64.manylinux2014_x86_64.whl (4.8 MB)\n",
      "Requirement already satisfied: zipp>=3.1.0; python_version < \"3.10\" in /home/akhilan/.local/lib/python3.8/site-packages (from importlib-resources>=3.2.0; python_version < \"3.10\"->matplotlib>=3.2->arviz>=0.11.0->pymc3) (3.17.0)\n",
      "\u001b[31mERROR: arviz 0.15.1 has requirement scipy>=1.8.0, but you'll have scipy 1.7.3 which is incompatible.\u001b[0m\n",
      "Installing collected packages: scipy, xarray, h5py, h5netcdf, xarray-einstats, arviz, cachetools, deprecat, dill, fastprogress, semver, theano-pymc, pymc3\n",
      "  Attempting uninstall: scipy\n",
      "    Found existing installation: scipy 1.10.1\n",
      "    Uninstalling scipy-1.10.1:\n",
      "      Successfully uninstalled scipy-1.10.1\n",
      "Successfully installed arviz-0.15.1 cachetools-5.3.2 deprecat-2.1.1 dill-0.3.7 fastprogress-1.0.3 h5netcdf-1.1.0 h5py-3.10.0 pymc3-3.11.5 scipy-1.7.3 semver-3.0.2 theano-pymc-1.1.2 xarray-2023.1.0 xarray-einstats-0.5.1\n"
     ]
    }
   ],
   "source": [
    "!pip install pymc3\n",
    " "
   ]
  },
  {
   "cell_type": "code",
   "execution_count": 13,
   "metadata": {
    "colab": {
     "base_uri": "https://localhost:8080/",
     "height": 375
    },
    "id": "lhWG6aJNDWIv",
    "outputId": "bc19e7f1-2f14-4cb1-b8d6-f8e68164bc1f"
   },
   "outputs": [
    {
     "ename": "AttributeError",
     "evalue": "module 'pymc3.variational.inference' has no attribute 'sampling'",
     "output_type": "error",
     "traceback": [
      "\u001b[0;31m---------------------------------------------------------------------------\u001b[0m",
      "\u001b[0;31mAttributeError\u001b[0m                            Traceback (most recent call last)",
      "Cell \u001b[0;32mIn[13], line 26\u001b[0m\n\u001b[1;32m     23\u001b[0m observed_values \u001b[38;5;241m=\u001b[39m {\u001b[38;5;124m'\u001b[39m\u001b[38;5;124muser_goal\u001b[39m\u001b[38;5;124m'\u001b[39m: \u001b[38;5;241m0\u001b[39m, \u001b[38;5;124m'\u001b[39m\u001b[38;5;124mdialogue_context\u001b[39m\u001b[38;5;124m'\u001b[39m: \u001b[38;5;241m0\u001b[39m}\n\u001b[1;32m     25\u001b[0m \u001b[38;5;66;03m# Infer the posterior probabilities of the robot_understanding and robot_response nodes\u001b[39;00m\n\u001b[0;32m---> 26\u001b[0m inference \u001b[38;5;241m=\u001b[39m \u001b[43mpm\u001b[49m\u001b[38;5;241;43m.\u001b[39;49m\u001b[43minference\u001b[49m\u001b[38;5;241;43m.\u001b[39;49m\u001b[43msampling\u001b[49m\u001b[38;5;241m.\u001b[39msample_posterior_predictive(model\u001b[38;5;241m=\u001b[39mmodel, samples\u001b[38;5;241m=\u001b[39m\u001b[38;5;241m1000\u001b[39m, \u001b[38;5;28mvars\u001b[39m\u001b[38;5;241m=\u001b[39m[robot_understanding, robot_response], \\\n\u001b[1;32m     27\u001b[0m                                                            observed\u001b[38;5;241m=\u001b[39mobserved_values)\n\u001b[1;32m     29\u001b[0m \u001b[38;5;66;03m# Select the response with the highest probability as the robot's utterance\u001b[39;00m\n\u001b[1;32m     30\u001b[0m robot_response \u001b[38;5;241m=\u001b[39m pm\u001b[38;5;241m.\u001b[39mstats\u001b[38;5;241m.\u001b[39mmode(inference[\u001b[38;5;124m'\u001b[39m\u001b[38;5;124mrobot_response\u001b[39m\u001b[38;5;124m'\u001b[39m])[\u001b[38;5;241m0\u001b[39m]\n",
      "\u001b[0;31mAttributeError\u001b[0m: module 'pymc3.variational.inference' has no attribute 'sampling'"
     ]
    }
   ],
   "source": [
    "import pymc3 as pm\n",
    "\n",
    "# Define the Bayesian network structure\n",
    "with pm.Model() as model:\n",
    "    user_goal = pm.Categorical('user_goal', p=[0.3, 0.4, 0.3], shape=1)\n",
    "    user_preference = pm.Categorical('user_preference', p=[0.4, 0.3, 0.3], shape=1)\n",
    "    dialogue_context = pm.Categorical('dialogue_context', p=[0.2, 0.6, 0.2], shape=1)\n",
    "    robot_understanding = pm.Categorical('robot_understanding', p=[0.5, 0.3, 0.2], shape=1)\n",
    "    robot_response = pm.Categorical('robot_response', p=[0.3, 0.5, 0.2], shape=1)\n",
    "\n",
    "    # Define the conditional probability distributions\n",
    "    p_user_goal_given_context = pm.math.switch(pm.math.eq(dialogue_context, 0), [0.6, 0.2, 0.2], [0.2, 0.3, 0.5])\n",
    "    p_user_preference_given_goal = pm.math.switch(pm.math.eq(user_goal, 0), [0.5, 0.2, 0.3], [0.2, 0.4, 0.4])\n",
    "    p_robot_understanding_given_user = pm.math.switch(pm.math.eq(user_preference, 0), [0.4, 0.3, 0.3], [0.2, 0.5, 0.3])\n",
    "    p_robot_response_given_understanding = pm.math.switch(pm.math.eq(robot_understanding, 0), [0.5, 0.2, 0.3], [0.3, 0.5, 0.2])\n",
    "\n",
    "    # Define the joint probability distribution\n",
    "    p_joint = pm.Deterministic('p_joint', p_user_goal_given_context[user_goal] * p_user_preference_given_goal[user_preference] * \\\n",
    "                                                pm.math.switch(pm.math.eq(dialogue_context, 0), 1, p_robot_understanding_given_user[user_preference]) * \\\n",
    "                                                p_robot_response_given_understanding[robot_understanding])\n",
    "\n",
    "    # Observe the values of the user_goal and dialogue_context nodes\n",
    "    observed_values = {'user_goal': 0, 'dialogue_context': 0}\n",
    "\n",
    "    # Infer the posterior probabilities of the robot_understanding and robot_response nodes\n",
    "    inference = pm.inference.sampling.sample_posterior_predictive(model=model, samples=1000, vars=[robot_understanding, robot_response], \\\n",
    "                                                               observed=observed_values)\n",
    "\n",
    "    # Select the response with the highest probability as the robot's utterance\n",
    "    robot_response = pm.stats.mode(inference['robot_response'])[0]\n"
   ]
  }
 ],
 "metadata": {
  "colab": {
   "provenance": []
  },
  "kernelspec": {
   "display_name": "Python 3 (ipykernel)",
   "language": "python",
   "name": "python3"
  },
  "language_info": {
   "codemirror_mode": {
    "name": "ipython",
    "version": 3
   },
   "file_extension": ".py",
   "mimetype": "text/x-python",
   "name": "python",
   "nbconvert_exporter": "python",
   "pygments_lexer": "ipython3",
   "version": "3.8.10"
  }
 },
 "nbformat": 4,
 "nbformat_minor": 1
}
